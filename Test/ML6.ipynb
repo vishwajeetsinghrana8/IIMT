{
 "cells": [
  {
   "cell_type": "code",
   "execution_count": 16,
   "metadata": {},
   "outputs": [
    {
     "name": "stdout",
     "output_type": "stream",
     "text": [
      "Hello, Vishwajeet. How are you?\n"
     ]
    }
   ],
   "source": [
    "var1 = 'Hello'\n",
    "var2 = 'Vishwajeet'\n",
    "\n",
    "message1 = var1+', '+var2 +'. How are you?'\n",
    "print(message1)"
   ]
  },
  {
   "cell_type": "code",
   "execution_count": 17,
   "metadata": {},
   "outputs": [
    {
     "name": "stdout",
     "output_type": "stream",
     "text": [
      "Hello, Vishwajeet. How are you?\n"
     ]
    }
   ],
   "source": [
    "message2 = '{}, {}. How are you?'.format(var1,var2)\n",
    "print(message2)"
   ]
  },
  {
   "cell_type": "code",
   "execution_count": 18,
   "metadata": {},
   "outputs": [
    {
     "name": "stdout",
     "output_type": "stream",
     "text": [
      "Hello, Vishwajeet. How are you?\n"
     ]
    }
   ],
   "source": [
    "message3 = f'{var1}, {var2}. How are you?'\n",
    "print(message3)"
   ]
  },
  {
   "cell_type": "code",
   "execution_count": 28,
   "metadata": {},
   "outputs": [
    {
     "name": "stdout",
     "output_type": "stream",
     "text": [
      "Knowledge Shelf\n",
      "<class 'str'>\n",
      "knowledge shelf\n",
      "KNOWLEDGE SHELF\n",
      "15\n",
      "15\n",
      "3\n",
      "10\n",
      "S\n",
      "Knowledge \n"
     ]
    }
   ],
   "source": [
    "message4 = \"Knowledge Shelf\"\n",
    "print(message4)\n",
    "print(type(message4))\n",
    "print(message4.lower())\n",
    "print(message4.upper())\n",
    "print(message4.__len__())\n",
    "print(len(message4))\n",
    "print(message4.count('e'))\n",
    "print(message4.find('Shelf'))\n",
    "print(message4[10])\n",
    "print(message4[0:10])"
   ]
  }
 ],
 "metadata": {
  "kernelspec": {
   "display_name": "Python 3",
   "language": "python",
   "name": "python3"
  },
  "language_info": {
   "codemirror_mode": {
    "name": "ipython",
    "version": 3
   },
   "file_extension": ".py",
   "mimetype": "text/x-python",
   "name": "python",
   "nbconvert_exporter": "python",
   "pygments_lexer": "ipython3",
   "version": "3.7.1"
  }
 },
 "nbformat": 4,
 "nbformat_minor": 2
}
