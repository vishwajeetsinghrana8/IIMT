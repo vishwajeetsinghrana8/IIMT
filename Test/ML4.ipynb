{
 "cells": [
  {
   "cell_type": "code",
   "execution_count": 2,
   "metadata": {},
   "outputs": [
    {
     "name": "stdout",
     "output_type": "stream",
     "text": [
      "Enter the name : vishwajeet\n",
      "Hello vishwajeet\n"
     ]
    }
   ],
   "source": [
    "greeting = 'Hello'\n",
    "name = input(\"Enter the name : \")\n",
    "print(greeting+' '+name)"
   ]
  },
  {
   "cell_type": "code",
   "execution_count": 5,
   "metadata": {},
   "outputs": [
    {
     "name": "stdout",
     "output_type": "stream",
     "text": [
      "Enter the value : 1234\n"
     ]
    },
    {
     "data": {
      "text/plain": [
       "int"
      ]
     },
     "execution_count": 5,
     "metadata": {},
     "output_type": "execute_result"
    }
   ],
   "source": [
    "var1 = int(input(\"Enter the value : \"))\n",
    "var1\n",
    "type(var1)"
   ]
  },
  {
   "cell_type": "code",
   "execution_count": 6,
   "metadata": {},
   "outputs": [
    {
     "name": "stdout",
     "output_type": "stream",
     "text": [
      "Enter the valueknowledge SHelf\n",
      "knowledge SHelfknowledge SHelf\n"
     ]
    }
   ],
   "source": [
    "var1 = input(\"Enter the value\")\n",
    "var1 = var1 * 2\n",
    "print(var1)"
   ]
  },
  {
   "cell_type": "code",
   "execution_count": 10,
   "metadata": {},
   "outputs": [
    {
     "name": "stdout",
     "output_type": "stream",
     "text": [
      "Mera name vishwajeets hai,\n",
      "or mai youtube par \n",
      "videos banata hu.\n"
     ]
    }
   ],
   "source": [
    "splitString = \"Mera name vishwajeets hai,\\nor mai youtube par \\nvideos banata hu.\"\n",
    "print(splitString)"
   ]
  },
  {
   "cell_type": "code",
   "execution_count": 12,
   "metadata": {
    "scrolled": true
   },
   "outputs": [
    {
     "name": "stdout",
     "output_type": "stream",
     "text": [
      "1\t2\t3\t4\t5\t\n",
      "1 2 3 4 5\n"
     ]
    }
   ],
   "source": [
    "tabString = \"1\\t2\\t3\\t4\\t5\\t\"\n",
    "tabString1 = \"1 2 3 4 5\"\n",
    "print(tabString)\n",
    "print(tabString1)"
   ]
  },
  {
   "cell_type": "code",
   "execution_count": 16,
   "metadata": {},
   "outputs": [
    {
     "name": "stdout",
     "output_type": "stream",
     "text": [
      "what's your name?\n",
      "Mera name \"vishwajeet\" hai\n"
     ]
    }
   ],
   "source": [
    "print('what\\'s your name?')\n",
    "print(\"Mera name \\\"vishwajeet\\\" hai\")"
   ]
  },
  {
   "cell_type": "code",
   "execution_count": 23,
   "metadata": {},
   "outputs": [
    {
     "name": "stdout",
     "output_type": "stream",
     "text": [
      "Mera name vishwajeets hai,or mai youtube par videos banata hu.\n",
      "Mera name vishwajeets hai,or mai youtube par videos banata hu.\n",
      "What's your name?\n",
      "Mera name vishwajeets hai,\n",
      "or mai youtube par \n",
      "videos banata hu.\n"
     ]
    }
   ],
   "source": [
    "print('Mera name vishwajeets hai,or mai youtube par videos banata hu.')\n",
    "print(\"Mera name vishwajeets hai,or mai youtube par videos banata hu.\")\n",
    "print(\"What's your name?\")\n",
    "print('''Mera name vishwajeets hai,\n",
    "or mai youtube par \n",
    "videos banata hu.''')"
   ]
  }
 ],
 "metadata": {
  "kernelspec": {
   "display_name": "Python 3",
   "language": "python",
   "name": "python3"
  },
  "language_info": {
   "codemirror_mode": {
    "name": "ipython",
    "version": 3
   },
   "file_extension": ".py",
   "mimetype": "text/x-python",
   "name": "python",
   "nbconvert_exporter": "python",
   "pygments_lexer": "ipython3",
   "version": "3.7.1"
  }
 },
 "nbformat": 4,
 "nbformat_minor": 2
}
