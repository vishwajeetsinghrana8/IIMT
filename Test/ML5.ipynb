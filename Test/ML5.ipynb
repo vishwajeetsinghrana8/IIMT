{
 "cells": [
  {
   "cell_type": "code",
   "execution_count": 9,
   "metadata": {},
   "outputs": [
    {
     "name": "stdout",
     "output_type": "stream",
     "text": [
      "vishwajeet20\n"
     ]
    }
   ],
   "source": [
    "_var1 = 20\n",
    "name_var_1 = 'vishwajeet'\n",
    "#print(_var1)\n",
    "print(name_var1 + str(_var1))"
   ]
  },
  {
   "cell_type": "code",
   "execution_count": 17,
   "metadata": {},
   "outputs": [
    {
     "name": "stdout",
     "output_type": "stream",
     "text": [
      "Enter the value of Var2:14\n",
      "Enter the value of var3:4\n",
      "18\n",
      "10\n",
      "56\n",
      "38416\n",
      "3.5\n",
      "3\n",
      "2\n"
     ]
    }
   ],
   "source": [
    "var2 = int(input('Enter the value of Var2:'))\n",
    "var3 = int(input('Enter the value of var3:'))\n",
    "\n",
    "print(var2+var3)\n",
    "print(var2-var3)\n",
    "print(var2*var3)\n",
    "print(var2**var3)\n",
    "print(var2/var3)\n",
    "print(var2//var3)\n",
    "print(var2%var3)"
   ]
  }
 ],
 "metadata": {
  "kernelspec": {
   "display_name": "Python 3",
   "language": "python",
   "name": "python3"
  },
  "language_info": {
   "codemirror_mode": {
    "name": "ipython",
    "version": 3
   },
   "file_extension": ".py",
   "mimetype": "text/x-python",
   "name": "python",
   "nbconvert_exporter": "python",
   "pygments_lexer": "ipython3",
   "version": "3.6.5"
  }
 },
 "nbformat": 4,
 "nbformat_minor": 2
}
