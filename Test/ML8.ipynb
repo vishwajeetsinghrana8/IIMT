{
 "cells": [
  {
   "cell_type": "code",
   "execution_count": 8,
   "metadata": {},
   "outputs": [
    {
     "name": "stdout",
     "output_type": "stream",
     "text": [
      "Hello, Knowledge Shelf\n"
     ]
    }
   ],
   "source": [
    "#Functions \n",
    "\n",
    "def function1():\n",
    "    print(\"Hello, Knowledge Shelf\")\n",
    "    \n"
   ]
  },
  {
   "cell_type": "code",
   "execution_count": 9,
   "metadata": {},
   "outputs": [
    {
     "name": "stdout",
     "output_type": "stream",
     "text": [
      "Enter the value of num1 : 12\n",
      "Enter the value of num2 : 24\n",
      "Sum =  36\n"
     ]
    }
   ],
   "source": [
    "#1. No Argu No Return Type\n",
    "def add():\n",
    "    var1 = int(input(\"Enter the value of num1 : \"))\n",
    "    var2 = int(input(\"Enter the value of num2 : \"))\n",
    "    \n",
    "    var3 = var1 + var2\n",
    "    \n",
    "    print(\"Sum = \",var3)\n"
   ]
  },
  {
   "cell_type": "code",
   "execution_count": 10,
   "metadata": {},
   "outputs": [
    {
     "name": "stdout",
     "output_type": "stream",
     "text": [
      "Sub =  6\n"
     ]
    }
   ],
   "source": [
    "#2. With Argument and No Retyrn Type\n",
    "def sub(var1, var2):\n",
    "    var3 = var1 - var2\n",
    "    \n",
    "    print(\"Sub = \",var3)\n"
   ]
  },
  {
   "cell_type": "code",
   "execution_count": 12,
   "metadata": {
    "scrolled": true
   },
   "outputs": [
    {
     "name": "stdout",
     "output_type": "stream",
     "text": [
      "Enter the value of num1 : 21\n",
      "Enter the value of num2 : 2\n",
      "Multiply =  42\n"
     ]
    }
   ],
   "source": [
    "#3. No Argument and with return type\n",
    "def multiply():\n",
    "    var1 = int(input(\"Enter the value of num1 : \"))\n",
    "    var2 = int(input(\"Enter the value of num2 : \"))\n",
    "    \n",
    "    var3 = var1 * var2\n",
    "    \n",
    "    return var3"
   ]
  },
  {
   "cell_type": "code",
   "execution_count": 14,
   "metadata": {},
   "outputs": [
    {
     "name": "stdout",
     "output_type": "stream",
     "text": [
      "Division =  5.444444444444445\n"
     ]
    }
   ],
   "source": [
    "#4. With Argument and With Return Type\n",
    "def div(var1, var2):\n",
    "    \n",
    "    var3 = var1/var2\n",
    "    \n",
    "    return var3"
   ]
  }
 ],
 "metadata": {
  "kernelspec": {
   "display_name": "Python 3",
   "language": "python",
   "name": "python3"
  },
  "language_info": {
   "codemirror_mode": {
    "name": "ipython",
    "version": 3
   },
   "file_extension": ".py",
   "mimetype": "text/x-python",
   "name": "python",
   "nbconvert_exporter": "python",
   "pygments_lexer": "ipython3",
   "version": "3.7.1"
  }
 },
 "nbformat": 4,
 "nbformat_minor": 2
}
