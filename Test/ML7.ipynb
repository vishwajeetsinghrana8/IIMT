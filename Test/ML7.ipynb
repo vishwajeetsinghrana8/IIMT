{
 "cells": [
  {
   "cell_type": "code",
   "execution_count": 9,
   "metadata": {},
   "outputs": [
    {
     "name": "stdout",
     "output_type": "stream",
     "text": [
      "Value of I 1\n",
      "Value of I 2\n",
      "Value of I 3\n",
      "Value of I 4\n",
      "Value of I 5\n",
      "Value of I 6\n",
      "Value of I 7\n",
      "Value of I 8\n",
      "Value of I 9\n",
      "Value of I 10\n",
      "Value of I 11\n",
      "For loop Complete!!!\n"
     ]
    }
   ],
   "source": [
    "for i in range(1,12):\n",
    "    print(\"Value of I \"+ str(i))\n",
    "print(\"For loop Complete!!!\")"
   ]
  },
  {
   "cell_type": "code",
   "execution_count": 10,
   "metadata": {},
   "outputs": [
    {
     "name": "stdout",
     "output_type": "stream",
     "text": [
      "No.1 squared is 1 and cubed is 1\n",
      "No.2 squared is 4 and cubed is 8\n",
      "No.3 squared is 9 and cubed is 27\n",
      "No.4 squared is 16 and cubed is 64\n",
      "No.5 squared is 25 and cubed is 125\n",
      "No.6 squared is 36 and cubed is 216\n",
      "No.7 squared is 49 and cubed is 343\n",
      "No.8 squared is 64 and cubed is 512\n",
      "No.9 squared is 81 and cubed is 729\n",
      "No.10 squared is 100 and cubed is 1000\n",
      "No.11 squared is 121 and cubed is 1331\n",
      "For Loop Complete!!!!\n"
     ]
    }
   ],
   "source": [
    "for var1 in range(1,12):\n",
    "    print(\"No.{} squared is {} and cubed is {}\".format(var1,var1**2,var1**3))\n",
    "print(\"For Loop Complete!!!!\")"
   ]
  }
 ],
 "metadata": {
  "kernelspec": {
   "display_name": "Python 3",
   "language": "python",
   "name": "python3"
  },
  "language_info": {
   "codemirror_mode": {
    "name": "ipython",
    "version": 3
   },
   "file_extension": ".py",
   "mimetype": "text/x-python",
   "name": "python",
   "nbconvert_exporter": "python",
   "pygments_lexer": "ipython3",
   "version": "3.7.1"
  }
 },
 "nbformat": 4,
 "nbformat_minor": 2
}
